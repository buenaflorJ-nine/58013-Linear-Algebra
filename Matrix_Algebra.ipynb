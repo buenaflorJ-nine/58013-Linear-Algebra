{
  "nbformat": 4,
  "nbformat_minor": 0,
  "metadata": {
    "colab": {
      "provenance": [],
      "authorship_tag": "ABX9TyOXDwVuJNOLUp9pJFr2YOI5",
      "include_colab_link": true
    },
    "kernelspec": {
      "name": "python3",
      "display_name": "Python 3"
    },
    "language_info": {
      "name": "python"
    }
  },
  "cells": [
    {
      "cell_type": "markdown",
      "metadata": {
        "id": "view-in-github",
        "colab_type": "text"
      },
      "source": [
        "<a href=\"https://colab.research.google.com/github/buenaflorJ-nine/58013-Linear-Algebra/blob/main/Matrix_Algebra.ipynb\" target=\"_parent\"><img src=\"https://colab.research.google.com/assets/colab-badge.svg\" alt=\"Open In Colab\"/></a>"
      ]
    },
    {
      "cell_type": "code",
      "execution_count": null,
      "metadata": {
        "colab": {
          "base_uri": "https://localhost:8080/"
        },
        "id": "_xv8poRh3kF9",
        "outputId": "7579f5dd-1140-4c68-bd7e-83764dc0733d"
      },
      "outputs": [
        {
          "output_type": "stream",
          "name": "stdout",
          "text": [
            "3\n",
            "-235\n"
          ]
        }
      ],
      "source": [
        "from matplotlib import pyplot as plt\n",
        "import numpy as np\n",
        "%matplotlib inline\n",
        "\n",
        "A = np.array([\n",
        "    [1,4],\n",
        "    [0,3]\n",
        "])\n",
        "print(int(np.linalg.det(A)))\n",
        "\n",
        "## Now other mathematics classes would require you to solve this by hand,\n",
        "## and that is great for practicing your memorization and coordination skills\n",
        "## but in this class we aim for simplicity and speed so we'll use programming\n",
        "## but it's completely fine if you want to try to solve this one by hand.\n",
        "\n",
        "B = np.array([\n",
        "    [1,3,5,6],\n",
        "    [0,3,1,3],\n",
        "    [3,1,8,2],\n",
        "    [5,2,6,8]\n",
        "])\n",
        "print(int(np.linalg.det(B)))\n",
        "\n"
      ]
    },
    {
      "cell_type": "markdown",
      "source": [
        "Coding Activity 9"
      ],
      "metadata": {
        "id": "yatefEFO4zjh"
      }
    },
    {
      "cell_type": "code",
      "source": [
        "import numpy as np\n",
        "x = np.array([[1,2,3],[4,5,6],[7,8,9]])\n",
        "y = np.array([[2,3,3],[4,4,7],[1,1,1]])\n",
        "z = np.array([[2,4,6],[2,5,7],[1,2,2]])\n",
        "print(x, \"\\n\")\n",
        "print(y, \"\\n\")\n",
        "print(z)"
      ],
      "metadata": {
        "colab": {
          "base_uri": "https://localhost:8080/"
        },
        "id": "kT47NmMs40FC",
        "outputId": "e37893a0-af37-476a-b950-7ec81c239e91"
      },
      "execution_count": 3,
      "outputs": [
        {
          "output_type": "stream",
          "name": "stdout",
          "text": [
            "[[1 2 3]\n",
            " [4 5 6]\n",
            " [7 8 9]] \n",
            "\n",
            "[[2 3 3]\n",
            " [4 4 7]\n",
            " [1 1 1]] \n",
            "\n",
            "[[2 4 6]\n",
            " [2 5 7]\n",
            " [1 2 2]]\n"
          ]
        }
      ]
    },
    {
      "cell_type": "markdown",
      "source": [
        "Distributive Property"
      ],
      "metadata": {
        "id": "2cXwruSxFoRY"
      }
    },
    {
      "cell_type": "code",
      "source": [
        "# 1. Distributive Property\n",
        "\n",
        "a = x.dot(y + z)\n",
        "\n",
        "b = x.dot(y) + x.dot(z)\n",
        "\n",
        "print(\"x(y + z) =\", \"\\n\",a)\n",
        "print(\"xy + xz =\", \"\\n\",b)\n",
        "print(np.array_equal(a,b))"
      ],
      "metadata": {
        "colab": {
          "base_uri": "https://localhost:8080/"
        },
        "id": "GUoB47FsFnm6",
        "outputId": "6c8afd7e-180d-43ef-d44b-3c204699e7eb"
      },
      "execution_count": 4,
      "outputs": [
        {
          "output_type": "stream",
          "name": "stdout",
          "text": [
            "x(y + z) = \n",
            " [[ 22  34  46]\n",
            " [ 58  91 124]\n",
            " [ 94 148 202]]\n",
            "xy + xz = \n",
            " [[ 22  34  46]\n",
            " [ 58  91 124]\n",
            " [ 94 148 202]]\n",
            "True\n"
          ]
        }
      ]
    },
    {
      "cell_type": "markdown",
      "source": [
        "Associative Property"
      ],
      "metadata": {
        "id": "v7URCCHGFnci"
      }
    },
    {
      "cell_type": "code",
      "source": [
        "a = (x.dot(y)).dot(z)\n",
        "b = x.dot(y.dot(z))\n",
        "\n",
        "print(\"(xy)z =\", \"\\n\", a)\n",
        "print(\"x(yz) =\", \"\\n\",b)\n",
        "print(np.array_equal(a,b))"
      ],
      "metadata": {
        "colab": {
          "base_uri": "https://localhost:8080/"
        },
        "id": "vgwBD4NjGwrR",
        "outputId": "cdc47722-a8f3-4bf5-ad20-6764d35385be"
      },
      "execution_count": 5,
      "outputs": [
        {
          "output_type": "stream",
          "name": "stdout",
          "text": [
            "(xy)z = \n",
            " [[ 74 162 216]\n",
            " [197 432 576]\n",
            " [320 702 936]]\n",
            "x(yz) = \n",
            " [[ 74 162 216]\n",
            " [197 432 576]\n",
            " [320 702 936]]\n",
            "True\n"
          ]
        }
      ]
    },
    {
      "cell_type": "markdown",
      "source": [
        "Scalar Multiplication Distributive Property"
      ],
      "metadata": {
        "id": "3EQwxiZkHblE"
      }
    },
    {
      "cell_type": "code",
      "source": [
        "Scale = 2\n",
        "\n",
        "a = Scale*(z.dot(y))\n",
        "b = (Scale*z).dot(y)\n",
        "\n",
        "print(\"Scale(xy) =\", \"\\n\",a)\n",
        "print(\"(Scale*x)y =\", \"\\n\",b)\n",
        "print(np.array_equal(a,b))"
      ],
      "metadata": {
        "colab": {
          "base_uri": "https://localhost:8080/"
        },
        "id": "6pDOCPlHHb2T",
        "outputId": "4a44cbe0-161d-4ca1-c51b-86de9d00773d"
      },
      "execution_count": 6,
      "outputs": [
        {
          "output_type": "stream",
          "name": "stdout",
          "text": [
            "Scale(xy) = \n",
            " [[52 56 80]\n",
            " [62 66 96]\n",
            " [24 26 38]]\n",
            "(Scale*x)y = \n",
            " [[52 56 80]\n",
            " [62 66 96]\n",
            " [24 26 38]]\n",
            "True\n"
          ]
        }
      ]
    },
    {
      "cell_type": "markdown",
      "source": [
        "Identity Matrix Property"
      ],
      "metadata": {
        "id": "NW33jocjId8E"
      }
    },
    {
      "cell_type": "code",
      "source": [
        "Identity = np.identity(3)\n",
        "\n",
        "a = Identity.dot(x)\n",
        "b = x.dot(Identity)\n",
        "\n",
        "print(\"Identity*x =\", \"\\n\",a)\n",
        "print(\"x*Identity =\", \"\\n\",b)\n",
        "\n",
        "print(np.array_equal(b, x) and np.array_equal(b, x))"
      ],
      "metadata": {
        "colab": {
          "base_uri": "https://localhost:8080/"
        },
        "id": "GbRsNq1KIKjg",
        "outputId": "fc33257b-aa04-4f06-8de2-327d0580d9af"
      },
      "execution_count": null,
      "outputs": [
        {
          "output_type": "stream",
          "name": "stdout",
          "text": [
            "Identity*x = \n",
            " [[1. 2. 3.]\n",
            " [4. 5. 6.]\n",
            " [7. 8. 9.]]\n",
            "x*Identity = \n",
            " [[1. 2. 3.]\n",
            " [4. 5. 6.]\n",
            " [7. 8. 9.]]\n",
            "True\n"
          ]
        }
      ]
    },
    {
      "cell_type": "markdown",
      "source": [
        "Multiplicative Property of Zero"
      ],
      "metadata": {
        "id": "AhT_AHo3IK5x"
      }
    },
    {
      "cell_type": "code",
      "source": [
        "zero = np.zeros((3, 3))\n",
        "\n",
        "a = zero.dot(x)\n",
        "b = x.dot(zero)\n",
        "\n",
        "print(\"0x =\", \"\\n\", a)\n",
        "print(\"xy =\", \"\\n\", b)\n",
        "\n",
        "print(np.array_equal(a, zero) and np.array_equal(b, zero))\n"
      ],
      "metadata": {
        "colab": {
          "base_uri": "https://localhost:8080/"
        },
        "id": "IwB6AbVyu76B",
        "outputId": "e7d02381-609d-466f-c67c-397aaab8c009"
      },
      "execution_count": 9,
      "outputs": [
        {
          "output_type": "stream",
          "name": "stdout",
          "text": [
            "0x = \n",
            " [[0. 0. 0.]\n",
            " [0. 0. 0.]\n",
            " [0. 0. 0.]]\n",
            "Ay = \n",
            " [[0. 0. 0.]\n",
            " [0. 0. 0.]\n",
            " [0. 0. 0.]]\n",
            "True\n"
          ]
        }
      ]
    },
    {
      "cell_type": "markdown",
      "source": [
        "Transpose Property"
      ],
      "metadata": {
        "id": "5jb-b6DQu5pS"
      }
    },
    {
      "cell_type": "code",
      "source": [
        "a = (x.dot(y)).T\n",
        "b = (y.T).dot(x.T)\n",
        "\n",
        "print(\"(xy)^T =\", \"\\n\", a)\n",
        "print(\"y^T * x^T =\", \"\\n\", b)\n",
        "\n",
        "print(np.array_equal(a, b))"
      ],
      "metadata": {
        "id": "i6a_4MVjEzBw",
        "colab": {
          "base_uri": "https://localhost:8080/"
        },
        "outputId": "90f0b388-721e-412d-b55c-49fd1da90564"
      },
      "execution_count": 13,
      "outputs": [
        {
          "output_type": "stream",
          "name": "stdout",
          "text": [
            "(xy)^T = \n",
            " [[13 34 55]\n",
            " [14 38 62]\n",
            " [20 53 86]]\n",
            "y^T * x^T = \n",
            " [[13 34 55]\n",
            " [14 38 62]\n",
            " [20 53 86]]\n",
            "True\n"
          ]
        }
      ]
    }
  ]
}