{
  "nbformat": 4,
  "nbformat_minor": 0,
  "metadata": {
    "colab": {
      "provenance": [],
      "authorship_tag": "ABX9TyNNeyieSqJdMN5RWtfdw3/z",
      "include_colab_link": true
    },
    "kernelspec": {
      "name": "python3",
      "display_name": "Python 3"
    },
    "language_info": {
      "name": "python"
    }
  },
  "cells": [
    {
      "cell_type": "markdown",
      "metadata": {
        "id": "view-in-github",
        "colab_type": "text"
      },
      "source": [
        "<a href=\"https://colab.research.google.com/github/buenaflorJ-nine/58013-Linear-Algebra/blob/main/Long_Quiz_1.ipynb\" target=\"_parent\"><img src=\"https://colab.research.google.com/assets/colab-badge.svg\" alt=\"Open In Colab\"/></a>"
      ]
    },
    {
      "cell_type": "markdown",
      "source": [
        "Question 1"
      ],
      "metadata": {
        "id": "3FVVH8TeP4kJ"
      }
    },
    {
      "cell_type": "code",
      "execution_count": 32,
      "metadata": {
        "colab": {
          "base_uri": "https://localhost:8080/"
        },
        "id": "ZKflHL2WOoiN",
        "outputId": "29a25e42-8d6f-49fe-8d7f-ee3a8a2d1172"
      },
      "outputs": [
        {
          "output_type": "stream",
          "name": "stdout",
          "text": [
            "A\n",
            "[[1 2 3]\n",
            " [4 5 6]] \n",
            "\n",
            "B\n",
            "[[1 2]\n",
            " [3 4]\n",
            " [5 6]] \n",
            "\n",
            "AB =\n",
            "[[22 28]\n",
            " [49 64]] \n",
            "\n",
            "D\n",
            "[[1 2]\n",
            " [3 4]] \n",
            "\n",
            "D + D =\n",
            "[[2 4]\n",
            " [6 8]] \n",
            "\n",
            "C\n",
            "[[1 2 3]\n",
            " [4 5 6]\n",
            " [7 8 9]] \n",
            "\n",
            "2C =\n",
            "[[ 2  4  6]\n",
            " [ 8 10 12]\n",
            " [14 16 18]]\n"
          ]
        }
      ],
      "source": [
        "#Arrays\n",
        "import numpy as np\n",
        "A = np.array([[1,2,3],[4,5,6]])\n",
        "B = np.array([[1,2],[3,4],[5,6]])\n",
        "C = np.array([[1,2,3],[4,5,6],[7,8,9]])\n",
        "D = np.array([[1,2],[3,4]])\n",
        "\n",
        "#a.) AB\n",
        "print(\"A\")\n",
        "print(A, \"\\n\")\n",
        "print(\"B\")\n",
        "print(B, \"\\n\")\n",
        "print(\"AB =\")\n",
        "print(np.dot(A,B), \"\\n\")\n",
        "\n",
        "#b.) D+D\n",
        "print(\"D\")\n",
        "print(D, \"\\n\")\n",
        "print(\"D + D =\")\n",
        "print(np.add(D,D), \"\\n\")\n",
        "\n",
        "#c.) 2C\n",
        "print(\"C\")\n",
        "print(C, \"\\n\")\n",
        "print(\"2C =\")\n",
        "print(np.multiply(2,C))"
      ]
    },
    {
      "cell_type": "markdown",
      "source": [
        "Question 2"
      ],
      "metadata": {
        "id": "WgHhZgyIRb9n"
      }
    },
    {
      "cell_type": "code",
      "source": [
        "import numpy as np\n",
        "A = np.array([2,7,4])\n",
        "B = np.array([3,9,8])\n",
        "print(\"A =\", A)\n",
        "print(\"B =\", B)\n",
        "print(\"The cross product is:\", np.cross(A,B))"
      ],
      "metadata": {
        "colab": {
          "base_uri": "https://localhost:8080/"
        },
        "id": "3eCy4tbfRBeQ",
        "outputId": "2ebfc34b-1092-4979-d406-b693aec2fa94"
      },
      "execution_count": 33,
      "outputs": [
        {
          "output_type": "stream",
          "name": "stdout",
          "text": [
            "A = [2 7 4]\n",
            "B = [3 9 8]\n",
            "The cross product is: [20 -4 -3]\n"
          ]
        }
      ]
    }
  ]
}