{
  "nbformat": 4,
  "nbformat_minor": 0,
  "metadata": {
    "colab": {
      "provenance": [],
      "authorship_tag": "ABX9TyMf/ZFCbXNHyEx7cW7kOYNb",
      "include_colab_link": true
    },
    "kernelspec": {
      "name": "python3",
      "display_name": "Python 3"
    },
    "language_info": {
      "name": "python"
    }
  },
  "cells": [
    {
      "cell_type": "markdown",
      "metadata": {
        "id": "view-in-github",
        "colab_type": "text"
      },
      "source": [
        "<a href=\"https://colab.research.google.com/github/buenaflorJ-nine/58013-Linear-Algebra/blob/main/Python_Exercise_10.ipynb\" target=\"_parent\"><img src=\"https://colab.research.google.com/assets/colab-badge.svg\" alt=\"Open In Colab\"/></a>"
      ]
    },
    {
      "cell_type": "markdown",
      "source": [],
      "metadata": {
        "id": "BcRhm938ogR3"
      }
    },
    {
      "cell_type": "code",
      "source": [
        "import numpy as np\n",
        "\n",
        "array = np.array([[4,7,8],[-9,0,0],[2,3,4]])\n",
        "print(array)\n",
        "int(np.linalg.det(array))\n"
      ],
      "metadata": {
        "id": "FTRGOktqogCY",
        "colab": {
          "base_uri": "https://localhost:8080/"
        },
        "outputId": "75828a08-28df-4006-ead1-b9bcb434cf93"
      },
      "execution_count": null,
      "outputs": [
        {
          "output_type": "stream",
          "name": "stdout",
          "text": [
            "[[ 4  7  8]\n",
            " [-9  0  0]\n",
            " [ 2  3  4]]\n"
          ]
        },
        {
          "output_type": "execute_result",
          "data": {
            "text/plain": [
              "36"
            ]
          },
          "metadata": {},
          "execution_count": 6
        }
      ]
    },
    {
      "cell_type": "code",
      "source": [
        "import numpy as np\n",
        "\n",
        "A = np.array([[1,2,-1],[4,6,-2],[-1,3,3]])\n",
        "print(A, \"\\n\")\n",
        "int(np.linalg.det(A))\n",
        "#print(np.linalg.eig)"
      ],
      "metadata": {
        "id": "0TcyNjK4oc_3",
        "colab": {
          "base_uri": "https://localhost:8080/"
        },
        "outputId": "45f572df-a076-47a9-f026-1aec52e212a3"
      },
      "execution_count": null,
      "outputs": [
        {
          "output_type": "stream",
          "name": "stdout",
          "text": [
            "[[ 1  2 -1]\n",
            " [ 4  6 -2]\n",
            " [-1  3  3]] \n",
            "\n"
          ]
        },
        {
          "output_type": "execute_result",
          "data": {
            "text/plain": [
              "-13"
            ]
          },
          "metadata": {},
          "execution_count": 8
        }
      ]
    },
    {
      "cell_type": "code",
      "source": [
        "import numpy\n",
        "A = numpy.array([[2,3,-5],\n",
        "                  [7,1,-2],\n",
        "                  [-3,4,1]])\n",
        "print(A)\n",
        "print(int(numpy.linalg.det(A)))"
      ],
      "metadata": {
        "colab": {
          "base_uri": "https://localhost:8080/"
        },
        "id": "J7bntgC33HUt",
        "outputId": "671f21cb-63dd-4351-f1df-02a209ed213d"
      },
      "execution_count": null,
      "outputs": [
        {
          "output_type": "stream",
          "name": "stdout",
          "text": [
            "[[ 2  3 -5]\n",
            " [ 7  1 -2]\n",
            " [-3  4  1]]\n",
            "-140\n"
          ]
        }
      ]
    },
    {
      "cell_type": "code",
      "source": [
        "import numpy\n",
        "A = numpy.array([[1,2,-1],\n",
        "                  [4,6,-2],\n",
        "                  [-1,3,3]])\n",
        "print(A)\n",
        "print(int(numpy.linalg.det(A)))"
      ],
      "metadata": {
        "colab": {
          "base_uri": "https://localhost:8080/"
        },
        "id": "I282P1Cs3G8G",
        "outputId": "e49cecac-e252-4bae-939f-ad0ef1376a10"
      },
      "execution_count": null,
      "outputs": [
        {
          "output_type": "stream",
          "name": "stdout",
          "text": [
            "[[ 1  2 -1]\n",
            " [ 4  6 -2]\n",
            " [-1  3  3]]\n",
            "-13\n"
          ]
        }
      ]
    }
  ]
}