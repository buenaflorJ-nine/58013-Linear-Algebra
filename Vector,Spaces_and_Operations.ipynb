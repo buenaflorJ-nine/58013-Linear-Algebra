{
  "nbformat": 4,
  "nbformat_minor": 0,
  "metadata": {
    "colab": {
      "provenance": [],
      "authorship_tag": "ABX9TyNb/st3qZNtNhZaAAOX6PEA",
      "include_colab_link": true
    },
    "kernelspec": {
      "name": "python3",
      "display_name": "Python 3"
    },
    "language_info": {
      "name": "python"
    }
  },
  "cells": [
    {
      "cell_type": "markdown",
      "metadata": {
        "id": "view-in-github",
        "colab_type": "text"
      },
      "source": [
        "<a href=\"https://colab.research.google.com/github/buenaflorJ-nine/58013-Linear-Algebra/blob/main/Vector%2CSpaces_and_Operations.ipynb\" target=\"_parent\"><img src=\"https://colab.research.google.com/assets/colab-badge.svg\" alt=\"Open In Colab\"/></a>"
      ]
    },
    {
      "cell_type": "markdown",
      "source": [],
      "metadata": {
        "id": "bI6fRxaLc8EK"
      }
    },
    {
      "cell_type": "code",
      "source": [
        "import numpy as np\n",
        "\n",
        "A = np.array([4,3])\n",
        "B = np.array([2,-5])\n",
        "\n",
        "print('Vector A is', A)\n",
        "print('Vector B is', B)"
      ],
      "metadata": {
        "colab": {
          "base_uri": "https://localhost:8080/"
        },
        "id": "n7-vuKEIc7xC",
        "outputId": "55a0e05c-09fd-4b21-f93f-69370b74315b"
      },
      "execution_count": 4,
      "outputs": [
        {
          "output_type": "stream",
          "name": "stdout",
          "text": [
            "Vector A is [4 3]\n",
            "Vector B is [ 2 -5]\n"
          ]
        }
      ]
    },
    {
      "cell_type": "markdown",
      "source": [
        "Describing vectors in NumPy -\n",
        "Size, Dimension, Size"
      ],
      "metadata": {
        "id": "XIkhvUgGc7jC"
      }
    },
    {
      "cell_type": "code",
      "source": [
        "import numpy as np\n",
        "\n",
        "# Checking Shapes\n",
        "# Shapes tells us how many rows and columns are there\n",
        "\n",
        "ball1 = np.array([1,2,3])\n",
        "ball2 = np.array([0,1,-1])\n",
        "print(ball1)\n",
        "print(ball2)\n",
        "ball = np.shape(ball1)\n",
        "balls = np.shape(ball2)\n",
        "z = ball + balls\n",
        "print(z)\n",
        "x = np.ndim\n",
        "print(x)"
      ],
      "metadata": {
        "colab": {
          "base_uri": "https://localhost:8080/"
        },
        "id": "c6E4A-Byc4pT",
        "outputId": "ca3fb119-d154-4cde-8489-b4a0a161d956"
      },
      "execution_count": 19,
      "outputs": [
        {
          "output_type": "stream",
          "name": "stdout",
          "text": [
            "[1 2 3]\n",
            "[ 0  1 -1]\n",
            "(3, 3)\n",
            "<function ndim at 0x78dcc5b2bd00>\n"
          ]
        }
      ]
    },
    {
      "cell_type": "markdown",
      "source": [
        "Addition"
      ],
      "metadata": {
        "id": "bKxissO0c4Sb"
      }
    },
    {
      "cell_type": "code",
      "source": [
        "import numpy as np\n",
        "A = np.array([4,3])\n",
        "B = np.array([2,-5])\n",
        "R = np.add(A,B)\n",
        "print(A+B)\n",
        "print(R)"
      ],
      "metadata": {
        "colab": {
          "base_uri": "https://localhost:8080/"
        },
        "id": "QB39EqBvc4Ny",
        "outputId": "fb54748b-efef-4a15-8881-27557f721e61"
      },
      "execution_count": 21,
      "outputs": [
        {
          "output_type": "stream",
          "name": "stdout",
          "text": [
            "[ 6 -2]\n",
            "[ 6 -2]\n"
          ]
        }
      ]
    },
    {
      "cell_type": "markdown",
      "source": [
        "Subtraction"
      ],
      "metadata": {
        "id": "KtdUsnd2c4Ia"
      }
    },
    {
      "cell_type": "code",
      "source": [
        "R1 = np.subtract(A,B)\n",
        "print(R1)\n",
        "R2 = np.subtract(B,A)\n",
        "print(R2)"
      ],
      "metadata": {
        "colab": {
          "base_uri": "https://localhost:8080/"
        },
        "id": "pMOx7jwGc4Cb",
        "outputId": "767383a8-8776-4cec-deb5-84cf5688f5f1"
      },
      "execution_count": 23,
      "outputs": [
        {
          "output_type": "stream",
          "name": "stdout",
          "text": [
            "[2 8]\n",
            "[-2 -8]\n"
          ]
        }
      ]
    },
    {
      "cell_type": "markdown",
      "source": [
        "Scalar Product"
      ],
      "metadata": {
        "id": "IOji3Lp2c37T"
      }
    },
    {
      "cell_type": "code",
      "execution_count": 24,
      "metadata": {
        "colab": {
          "base_uri": "https://localhost:8080/"
        },
        "id": "o3l0fL1Ncx9S",
        "outputId": "53a29699-8352-4594-9061-c8af9d740816"
      },
      "outputs": [
        {
          "output_type": "stream",
          "name": "stdout",
          "text": [
            "[8 6]\n"
          ]
        }
      ],
      "source": [
        "S = np.array([2])\n",
        "V = S*A\n",
        "print(V)"
      ]
    },
    {
      "cell_type": "markdown",
      "source": [
        "Dot Product"
      ],
      "metadata": {
        "id": "MuhO5BpPvO_D"
      }
    },
    {
      "cell_type": "code",
      "source": [
        "print(np.dot(A,B))"
      ],
      "metadata": {
        "colab": {
          "base_uri": "https://localhost:8080/"
        },
        "id": "oIomgK24vOsi",
        "outputId": "68160828-e42a-4951-ef26-309422f8ccab"
      },
      "execution_count": 30,
      "outputs": [
        {
          "output_type": "stream",
          "name": "stdout",
          "text": [
            "-7\n"
          ]
        }
      ]
    },
    {
      "cell_type": "markdown",
      "source": [
        "Properties of Matrix"
      ],
      "metadata": {
        "id": "1xKBva_9vORy"
      }
    },
    {
      "cell_type": "code",
      "source": [
        "#Identity Matrix\n",
        "c = np.eye(3,3)\n",
        "print(c)\n",
        "#Zero Matrix\n",
        "d = np.zeros([5,5])\n",
        "print(d)\n",
        "#Full Matrix\n",
        "e = np.full((3,3), 7)\n",
        "print(e)\n",
        "#Transpose Matrix\n",
        "f = np.transpose(A)\n",
        "print(A)\n"
      ],
      "metadata": {
        "colab": {
          "base_uri": "https://localhost:8080/"
        },
        "id": "uJr7sCcIvN1b",
        "outputId": "eb9a88d5-aa47-4cf1-f4b2-5451b8076624"
      },
      "execution_count": 44,
      "outputs": [
        {
          "output_type": "stream",
          "name": "stdout",
          "text": [
            "[[1. 0. 0.]\n",
            " [0. 1. 0.]\n",
            " [0. 0. 1.]]\n",
            "[[0. 0. 0. 0. 0.]\n",
            " [0. 0. 0. 0. 0.]\n",
            " [0. 0. 0. 0. 0.]\n",
            " [0. 0. 0. 0. 0.]\n",
            " [0. 0. 0. 0. 0.]]\n",
            "[[7 7 7]\n",
            " [7 7 7]\n",
            " [7 7 7]]\n",
            "[4 3]\n"
          ]
        }
      ]
    },
    {
      "cell_type": "markdown",
      "source": [],
      "metadata": {
        "id": "aXBjsuaPvNsa"
      }
    }
  ]
}