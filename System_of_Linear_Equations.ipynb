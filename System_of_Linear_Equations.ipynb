{
  "nbformat": 4,
  "nbformat_minor": 0,
  "metadata": {
    "colab": {
      "provenance": [],
      "authorship_tag": "ABX9TyOQ1I33vSL1fezqx/uRmca8",
      "include_colab_link": true
    },
    "kernelspec": {
      "name": "python3",
      "display_name": "Python 3"
    },
    "language_info": {
      "name": "python"
    }
  },
  "cells": [
    {
      "cell_type": "markdown",
      "metadata": {
        "id": "view-in-github",
        "colab_type": "text"
      },
      "source": [
        "<a href=\"https://colab.research.google.com/github/buenaflorJ-nine/58013-Linear-Algebra/blob/main/System_of_Linear_Equations.ipynb\" target=\"_parent\"><img src=\"https://colab.research.google.com/assets/colab-badge.svg\" alt=\"Open In Colab\"/></a>"
      ]
    },
    {
      "cell_type": "markdown",
      "source": [],
      "metadata": {
        "id": "fxTMVd_W6Gnu"
      }
    },
    {
      "cell_type": "code",
      "execution_count": 16,
      "metadata": {
        "colab": {
          "base_uri": "https://localhost:8080/"
        },
        "id": "leO5ylDB5-d9",
        "outputId": "20c9c8f7-ac75-4b1f-ea68-2a5d70cf616e"
      },
      "outputs": [
        {
          "output_type": "stream",
          "name": "stdout",
          "text": [
            "[[ 1.  1.  1.]\n",
            " [ 3. -2. -1.]\n",
            " [-1.  4.  2.]]\n",
            "(3, 3) \n",
            "\n",
            "[[ 1.]\n",
            " [ 4.]\n",
            " [-3.]]\n",
            "(3, 1)\n"
          ]
        }
      ],
      "source": [
        "import numpy as np\n",
        "\n",
        "X = np.array([\n",
        "    [1,1,1],\n",
        "    [3,-2,-1],\n",
        "    [-1,4,2]], dtype=float)\n",
        "Y = np.array([\n",
        "    [1],\n",
        "    [4],\n",
        "    [-3]], dtype=float)\n",
        "print(X)\n",
        "print(X.shape, \"\\n\")\n",
        "print(Y)\n",
        "print(Y.shape)\n"
      ]
    },
    {
      "cell_type": "markdown",
      "source": [
        "Coding Activity 10"
      ],
      "metadata": {
        "id": "VuVTb7nm6Fz5"
      }
    },
    {
      "cell_type": "code",
      "source": [
        "Supply=np.array([[30,10,120],[40,20,200],[50,40,360]])\n",
        "\n",
        "Cost = np.array([12500,18000,25700])\n",
        "\n",
        "prices = np.linalg.solve(Supply, Cost)\n",
        "flour, yeast, egg = prices\n",
        "\n",
        "print(f\"Price per 1 sack of flour: {flour:.2f} pesos\")\n",
        "print(f\"Price per 1 pack of yeast: {yeast:.2f} pesos\")\n",
        "print(f\"Price per 1 egg: {egg:.2f} pesos\")"
      ],
      "metadata": {
        "colab": {
          "base_uri": "https://localhost:8080/"
        },
        "id": "vnSBy61i6GRo",
        "outputId": "78249561-fac2-48f8-f7a8-8d2e4eb1375c"
      },
      "execution_count": 20,
      "outputs": [
        {
          "output_type": "stream",
          "name": "stdout",
          "text": [
            "Price per 1 sack of flour: 330.00 pesos\n",
            "Price per 1 pack of yeast: 140.00 pesos\n",
            "Price per 1 egg: 10.00 pesos\n"
          ]
        }
      ]
    }
  ]
}